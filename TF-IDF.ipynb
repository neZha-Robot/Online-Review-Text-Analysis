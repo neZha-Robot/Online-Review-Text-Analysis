{
 "cells": [
  {
   "cell_type": "code",
   "execution_count": 5,
   "metadata": {
    "execution": {
     "iopub.execute_input": "2023-03-29T13:11:20.132972Z",
     "iopub.status.busy": "2023-03-29T13:11:20.132370Z",
     "iopub.status.idle": "2023-03-29T13:12:07.952962Z",
     "shell.execute_reply": "2023-03-29T13:12:07.951704Z",
     "shell.execute_reply.started": "2023-03-29T13:11:20.132935Z"
    },
    "scrolled": true,
    "tags": []
   },
   "outputs": [
    {
     "name": "stderr",
     "output_type": "stream",
     "text": [
      "Building prefix dict from the default dictionary ...\r\n",
      "Loading model from cache /tmp/jieba.cache\r\n",
      "Loading model cost 0.846 seconds.\r\n",
      "Prefix dict has been built successfully.\r\n"
     ]
    },
    {
     "name": "stdout",
     "output_type": "stream",
     "text": [
      "new_new_data_唯品会.xlsx\r\n",
      "[('正品', 0.3320116653429986), ('唯品', 0.2415928982630163), ('好看', 0.21263424785386087), ('不错', 0.20406342144801665), ('喜欢', 0.19972880799817436), ('颜色', 0.19953290242595756), ('包装', 0.16035182105454224), ('围巾', 0.15571783369623265), ('质量', 0.13175105667668738), ('满意', 0.11345341044477845), ('款式', 0.0727301299672561), ('性价比', 0.07245187506067113), ('眼镜', 0.06545952897882161), ('大牌', 0.06236192686596572), ('面料', 0.060831191514873345), ('适合', 0.05962392038384174), ('价格', 0.059601096326335756), ('柔软', 0.05634904135819622), ('舒服', 0.052957602029251725), ('材质', 0.051957574042517926)]\r\n",
      "new_new_data_京东.xlsx\r\n",
      "[('正品', 0.41717115371454555), ('包装', 0.23440111118537732), ('不错', 0.2010925453293842), ('喜欢', 0.1653908624455524), ('好看', 0.13857167608357737), ('颜值', 0.11680046411281234), ('做工', 0.11484388175340231), ('眼镜', 0.10287170964624222), ('质量', 0.07414758685030287), ('外观', 0.07312120618705248), ('物流', 0.06679676162391476), ('满意', 0.06626422204124309), ('收到', 0.06579714656088226), ('客服', 0.056971752027569635), ('快递', 0.056780500009171946), ('有点', 0.05634602187640296), ('感觉', 0.049077999492103536), ('细节', 0.047547612826677334), ('合适', 0.047508104268967434), ('没有', 0.04736914482079781)]\r\n",
      "new_new_寺库.xlsx\r\n",
      "[('正品', 0.45470637467024133), ('不错', 0.4260378194534009), ('喜欢', 0.293510640971147), ('好看', 0.2244052765735772), ('寺库', 0.18339574429641908), ('质量', 0.1505491120674696), ('满意', 0.10004649932058714), ('鞋子', 0.09782399202590984), ('舒服', 0.09620483882779157), ('有点', 0.09349054848605573), ('收到', 0.09311368870518089), ('合适', 0.08436504526750155), ('包装', 0.07565865743035738), ('很漂亮', 0.06554774305584127), ('颜色', 0.06321591061570322), ('尺码', 0.06262006087060724), ('物流', 0.06253161801680682), ('衣服', 0.05539780853006058), ('款式', 0.05520296568617435), ('感觉', 0.05268151448802938)]\r\n"
     ]
    }
   ],
   "source": [
    "import pandas as pd\n",
    "import jieba\n",
    "import jieba.analyse\n",
    "import os\n",
    "# 读取数据\n",
    "folder_path = \"data_cut\"\n",
    "# 获取文件夹中的所有xlsx文件\n",
    "file_list = [f for f in os.listdir(folder_path) if f.endswith('.xlsx')]\n",
    "# 循环读取每个xlsx文件，并对其中的comment列进行操作\n",
    "for file_name in file_list:\n",
    "    file_path = os.path.join(folder_path, file_name)\n",
    "    # 读取Excel文件\n",
    "    data = pd.read_excel(file_path)\n",
    "    data = data.dropna() #删除存在缺失值的行\n",
    "    merged_df = data.append(data, ignore_index=True)\n",
    "    # 输出分词结果\n",
    "    text = ''.join(data['cut_comment'].tolist())\n",
    "    # 对拼接后的文本进行关键词提取\n",
    "    keywords = jieba.analyse.extract_tags(text, topK=20, withWeight=True, allowPOS=('n', 'a', 'v', 'vn', 'an'))\n",
    "    print(file_name)\n",
    "    print(keywords)\n",
    "# 将合并后的 DataFrame 保存为新的 Excel 文件\n",
    "merged_df.to_excel(\"merged.xlsx\", index=False)"
   ]
  },
  {
   "cell_type": "code",
   "execution_count": 5,
   "metadata": {
    "execution": {
     "iopub.execute_input": "2023-03-29T12:34:10.985624Z",
     "iopub.status.busy": "2023-03-29T12:34:10.984914Z",
     "iopub.status.idle": "2023-03-29T12:34:30.600442Z",
     "shell.execute_reply": "2023-03-29T12:34:30.599598Z",
     "shell.execute_reply.started": "2023-03-29T12:34:10.985578Z"
    },
    "scrolled": true
   },
   "outputs": [
    {
     "name": "stdout",
     "output_type": "stream",
     "text": [
      "[('正品', 0.45470637467024133), ('不错', 0.4260378194534009), ('喜欢', 0.293510640971147), ('好看', 0.2244052765735772), ('寺库', 0.18339574429641908), ('质量', 0.1505491120674696), ('满意', 0.10004649932058714), ('鞋子', 0.09782399202590984), ('舒服', 0.09620483882779157), ('有点', 0.09349054848605573), ('收到', 0.09311368870518089), ('合适', 0.08436504526750155), ('包装', 0.07565865743035738), ('很漂亮', 0.06554774305584127), ('颜色', 0.06321591061570322), ('尺码', 0.06262006087060724), ('物流', 0.06253161801680682), ('衣服', 0.05539780853006058), ('款式', 0.05520296568617435), ('感觉', 0.05268151448802938)]\r\n"
     ]
    }
   ],
   "source": [
    "import pandas as pd\n",
    "import jieba\n",
    "import jieba.analyse\n",
    "import os\n",
    "\n",
    "# 读取Excel文件\n",
    "data = pd.read_excel(\"/home/aistudio/data_cut/new_new_寺库.xlsx\")\n",
    "data = data.dropna() #删除存在缺失值的行\n",
    "text = ''.join(data['cut_comment'].tolist())\n",
    "# 对拼接后的文本进行关键词提取\n",
    "keywords = jieba.analyse.extract_tags(text, topK=20, withWeight=True, allowPOS=('n', 'a', 'v', 'vn', 'an'))\n",
    "print(keywords)\n"
   ]
  },
  {
   "cell_type": "code",
   "execution_count": 6,
   "metadata": {
    "execution": {
     "iopub.execute_input": "2023-03-29T12:34:39.220011Z",
     "iopub.status.busy": "2023-03-29T12:34:39.219472Z",
     "iopub.status.idle": "2023-03-29T12:34:54.827955Z",
     "shell.execute_reply": "2023-03-29T12:34:54.827137Z",
     "shell.execute_reply.started": "2023-03-29T12:34:39.219979Z"
    },
    "scrolled": true
   },
   "outputs": [
    {
     "name": "stdout",
     "output_type": "stream",
     "text": [
      "[('正品', 0.45470637467024133), ('不错', 0.4260378194534009), ('喜欢', 0.293510640971147), ('好看', 0.2244052765735772), ('寺库', 0.18339574429641908), ('质量', 0.1505491120674696), ('满意', 0.10004649932058714), ('鞋子', 0.09782399202590984), ('舒服', 0.09620483882779157), ('有点', 0.09349054848605573), ('收到', 0.09311368870518089), ('合适', 0.08436504526750155), ('包装', 0.07565865743035738), ('很漂亮', 0.06554774305584127), ('颜色', 0.06321591061570322), ('尺码', 0.06262006087060724), ('物流', 0.06253161801680682), ('衣服', 0.05539780853006058), ('款式', 0.05520296568617435), ('感觉', 0.05268151448802938)]\r\n"
     ]
    }
   ],
   "source": [
    "import pandas as pd\n",
    "import jieba\n",
    "import jieba.analyse\n",
    "import os\n",
    "\n",
    "# 读取Excel文件\n",
    "data = pd.read_excel( \"/home/aistudio/data_cut/new_new_data_京东.xlsx\")\n",
    "data = data.dropna() #删除存在缺失值的行\n",
    "# 对拼接后的文本进行关键词提取\n",
    "keywords = jieba.analyse.extract_tags(text, topK=20, withWeight=True, allowPOS=('n', 'a', 'v', 'vn', 'an'))\n",
    "print(keywords)\n"
   ]
  },
  {
   "cell_type": "code",
   "execution_count": 7,
   "metadata": {
    "execution": {
     "iopub.execute_input": "2023-03-29T12:34:54.839579Z",
     "iopub.status.busy": "2023-03-29T12:34:54.839254Z",
     "iopub.status.idle": "2023-03-29T12:35:09.529427Z",
     "shell.execute_reply": "2023-03-29T12:35:09.528590Z",
     "shell.execute_reply.started": "2023-03-29T12:34:54.839555Z"
    },
    "scrolled": true
   },
   "outputs": [
    {
     "name": "stdout",
     "output_type": "stream",
     "text": [
      "[('正品', 0.45470637467024133), ('不错', 0.4260378194534009), ('喜欢', 0.293510640971147), ('好看', 0.2244052765735772), ('寺库', 0.18339574429641908), ('质量', 0.1505491120674696), ('满意', 0.10004649932058714), ('鞋子', 0.09782399202590984), ('舒服', 0.09620483882779157), ('有点', 0.09349054848605573), ('收到', 0.09311368870518089), ('合适', 0.08436504526750155), ('包装', 0.07565865743035738), ('很漂亮', 0.06554774305584127), ('颜色', 0.06321591061570322), ('尺码', 0.06262006087060724), ('物流', 0.06253161801680682), ('衣服', 0.05539780853006058), ('款式', 0.05520296568617435), ('感觉', 0.05268151448802938)]\r\n"
     ]
    }
   ],
   "source": [
    "import pandas as pd\n",
    "import jieba\n",
    "import jieba.analyse\n",
    "import os\n",
    "# 读取Excel文件\n",
    "data = pd.read_excel( \"/home/aistudio/data_cut/new_new_data_唯品会.xlsx\")\n",
    "data = data.dropna() #删除存在缺失值的行\n",
    "# 对拼接后的文本进行关键词提取\n",
    "keywords = jieba.analyse.extract_tags(text, topK=20, withWeight=True, allowPOS=('n', 'a', 'v', 'vn', 'an'))\n",
    "print(keywords)"
   ]
  },
  {
   "cell_type": "code",
   "execution_count": null,
   "metadata": {
    "scrolled": true
   },
   "outputs": [],
   "source": []
  }
 ],
 "metadata": {
  "kernelspec": {
   "display_name": "Python 3",
   "language": "python",
   "name": "py35-paddle1.2.0"
  },
  "language_info": {
   "codemirror_mode": {
    "name": "ipython",
    "version": 3
   },
   "file_extension": ".py",
   "mimetype": "text/x-python",
   "name": "python",
   "nbconvert_exporter": "python",
   "pygments_lexer": "ipython3",
   "version": "3.7.4"
  },
  "vscode": {
   "interpreter": {
    "hash": "f6922a9521a6ee1ce7f8c1dd0f269e02385237cdfa43bf19c0dcc609bd325874"
   }
  }
 },
 "nbformat": 4,
 "nbformat_minor": 4
}
