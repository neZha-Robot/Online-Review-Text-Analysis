{
 "cells": [
  {
   "cell_type": "code",
   "execution_count": 1,
   "id": "8070d953-7384-4d8f-b584-1f71b941fbc2",
   "metadata": {
    "execution": {
     "iopub.execute_input": "2023-03-29T13:12:59.680712Z",
     "iopub.status.busy": "2023-03-29T13:12:59.679981Z",
     "iopub.status.idle": "2023-03-29T13:13:01.049482Z",
     "shell.execute_reply": "2023-03-29T13:13:01.048112Z",
     "shell.execute_reply.started": "2023-03-29T13:12:59.680613Z"
    },
    "scrolled": true
   },
   "outputs": [],
   "source": [
    "import pandas as pd\r\n",
    "import jieba\r\n",
    "import jieba.analyse\r\n",
    "import jieba.posseg as psg\r\n",
    "import re\r\n",
    "import os"
   ]
  },
  {
   "cell_type": "code",
   "execution_count": 2,
   "id": "95daef78-7346-4dfb-b4c1-7d100dd05f9c",
   "metadata": {
    "execution": {
     "iopub.execute_input": "2023-03-29T13:13:01.052145Z",
     "iopub.status.busy": "2023-03-29T13:13:01.051657Z",
     "iopub.status.idle": "2023-03-29T13:13:01.066056Z",
     "shell.execute_reply": "2023-03-29T13:13:01.064995Z",
     "shell.execute_reply.started": "2023-03-29T13:13:01.052116Z"
    },
    "scrolled": true
   },
   "outputs": [
    {
     "data": {
      "text/plain": [
       "'啊'"
      ]
     },
     "execution_count": 2,
     "metadata": {},
     "output_type": "execute_result"
    }
   ],
   "source": [
    "#定义机械压缩去重函数\r\n",
    "def yasuo(st):\r\n",
    "    for i in range(1,int(len(st)/2)+1):\r\n",
    "        for j in range(len(st)):\r\n",
    "            if st[j:j+i] == st[j+i:j+2*i]:\r\n",
    "                k = j + i\r\n",
    "                while st[k:k+i] == st[k+i:k+2*i] and k<len(st):   \r\n",
    "                    k = k + i\r\n",
    "                st = st[:j] + st[k:]    \r\n",
    "    return st\r\n",
    "yasuo(st=\"啊啊啊啊啊啊啊\")"
   ]
  },
  {
   "cell_type": "code",
   "execution_count": 3,
   "id": "b2673811-0a0c-42e7-9255-99e99b228b78",
   "metadata": {
    "execution": {
     "iopub.execute_input": "2023-03-29T13:13:01.067641Z",
     "iopub.status.busy": "2023-03-29T13:13:01.067363Z",
     "iopub.status.idle": "2023-03-29T13:13:01.074206Z",
     "shell.execute_reply": "2023-03-29T13:13:01.073138Z",
     "shell.execute_reply.started": "2023-03-29T13:13:01.067617Z"
    },
    "scrolled": true
   },
   "outputs": [],
   "source": [
    "pattern = re.compile(u'[^\\u4e00-\\u9fa5a-zA-Z0-9]+')\r\n",
    "# 定义函数，用于删除非中文、英文和数字字符\r\n",
    "def clean_text(text):\r\n",
    "    return re.sub(pattern, '', text)"
   ]
  },
  {
   "cell_type": "code",
   "execution_count": 4,
   "id": "2355202d-0183-4f8c-a3d0-07d0aee1283a",
   "metadata": {
    "execution": {
     "iopub.execute_input": "2023-03-29T13:13:01.075677Z",
     "iopub.status.busy": "2023-03-29T13:13:01.075405Z",
     "iopub.status.idle": "2023-03-29T13:13:01.878946Z",
     "shell.execute_reply": "2023-03-29T13:13:01.877861Z",
     "shell.execute_reply.started": "2023-03-29T13:13:01.075653Z"
    },
    "scrolled": true
   },
   "outputs": [
    {
     "name": "stderr",
     "output_type": "stream",
     "text": [
      "Building prefix dict from the default dictionary ...\r\n",
      "Loading model from cache /tmp/jieba.cache\r\n",
      "Loading model cost 0.786 seconds.\r\n",
      "Prefix dict has been built successfully.\r\n"
     ]
    }
   ],
   "source": [
    "# 加载停用词表\r\n",
    "stopwords = set(pd.read_csv('/home/aistudio/dict/stopwords.txt', header=None, encoding='utf-8', squeeze=True))\r\n",
    "# 加载自定义词典\r\n",
    "jieba.load_userdict('/home/aistudio/dict/dict.txt')\r\n",
    "# 定义需要替换的词和替换成的词\r\n",
    "replace_dict = {\r\n",
    "    '老师': '教师',\r\n",
    "    '医生': '医务工作者',\r\n",
    "    # 可以继续添加需要替换的词和替换成的词\r\n",
    "}\r\n",
    "# 定义选择词性的函数\r\n",
    "def select_words(words, pos):\r\n",
    "    result = []\r\n",
    "    for word, tag in words:\r\n",
    "        if tag in pos and word not in stopwords:\r\n",
    "            # 替换词\r\n",
    "            for k, v in replace_dict.items():\r\n",
    "                word = word.replace(k, v)\r\n",
    "            result.append(word)\r\n",
    "    return ' '.join(result)\r\n",
    "# 定义分词函数\r\n",
    "def cut_comment(comment, pos):\r\n",
    "    # 分词\r\n",
    "    words = psg.cut(comment)\r\n",
    "    # 选择词性\r\n",
    "    result = select_words(words, pos)\r\n",
    "    # 返回结果\r\n",
    "    return result"
   ]
  },
  {
   "cell_type": "code",
   "execution_count": 5,
   "id": "a341808e-2c60-489b-b85f-5268147feaa5",
   "metadata": {
    "execution": {
     "iopub.execute_input": "2023-03-29T13:13:01.881346Z",
     "iopub.status.busy": "2023-03-29T13:13:01.880959Z",
     "iopub.status.idle": "2023-03-29T13:13:01.887175Z",
     "shell.execute_reply": "2023-03-29T13:13:01.886061Z",
     "shell.execute_reply.started": "2023-03-29T13:13:01.881318Z"
    },
    "scrolled": true
   },
   "outputs": [],
   "source": [
    "def print_top_words(model, feature_names, n_top_words):\r\n",
    "    tword = []\r\n",
    "    for topic_idx, topic in enumerate(model.components_):\r\n",
    "        print(\"Topic #%d:\" % topic_idx)\r\n",
    "        topic_w = \" \".join([feature_names[i] for i in topic.argsort()[:-n_top_words - 1:-1]])\r\n",
    "        tword.append(topic_w)\r\n",
    "        print(topic_w)\r\n",
    "    return tword"
   ]
  },
  {
   "cell_type": "code",
   "execution_count": 9,
   "id": "ecd4e667-e622-4346-9df3-c2a6112b20f5",
   "metadata": {
    "execution": {
     "iopub.execute_input": "2023-03-29T13:17:08.376072Z",
     "iopub.status.busy": "2023-03-29T13:17:08.375495Z",
     "iopub.status.idle": "2023-03-29T13:18:05.509091Z",
     "shell.execute_reply": "2023-03-29T13:18:05.508059Z",
     "shell.execute_reply.started": "2023-03-29T13:17:08.376037Z"
    },
    "scrolled": true,
    "tags": []
   },
   "outputs": [],
   "source": [
    "# 指定要读取的文件夹路径\n",
    "folder_path = \"data_cut\"\n",
    "folder_path1 = \"data_freq\"\n",
    "df1 = pd.read_excel(\"/home/aistudio/data_天猫.xlsx\")\n",
    "# 对comment列进行操作\n",
    "df1[\"comment\"] = df1[\"comment\"].apply(yasuo)\n",
    "df1 = df1.dropna() #删除存在缺失值的行\n",
    "df1['clean_comment'] = df1['comment'].apply(clean_text)\n",
    "df1['cut_comment'] = df1['clean_comment'].apply(lambda x: cut_comment(x, ['n', 'a', 'v', 'vn', 'an']))\n",
    "\n",
    "df2 = pd.read_excel(\"/home/aistudio/merged.xlsx\")\n",
    "merged_df = df1.append(df2, ignore_index=True)\n",
    "# 将所有评论合并成一个字符串\n",
    "comments = merged_df['cut_comment'].str.cat()\n",
    "# 使用jieba分词\n",
    "words = jieba.cut(comments)\n",
    "# 统计词频\n",
    "word_counts = pd.Series(words).value_counts() \n",
    "# 将结果保存到新的Excel文件中\n",
    "result_df = pd.DataFrame({'word': word_counts.index, 'count': word_counts.values})\n",
    "result_df.to_excel(\"data_freq.xlsx\")  \n"
   ]
  },
  {
   "cell_type": "code",
   "execution_count": null,
   "id": "b2fc1bc9-1f5f-4859-a36a-f19aae522935",
   "metadata": {
    "scrolled": true
   },
   "outputs": [],
   "source": []
  }
 ],
 "metadata": {
  "kernelspec": {
   "display_name": "Python 3",
   "language": "python",
   "name": "py35-paddle1.2.0"
  },
  "language_info": {
   "codemirror_mode": {
    "name": "ipython",
    "version": 3
   },
   "file_extension": ".py",
   "mimetype": "text/x-python",
   "name": "python",
   "nbconvert_exporter": "python",
   "pygments_lexer": "ipython3",
   "version": "3.7.4"
  }
 },
 "nbformat": 4,
 "nbformat_minor": 5
}
