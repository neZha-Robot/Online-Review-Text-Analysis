{
 "cells": [
  {
   "cell_type": "code",
   "execution_count": 1,
   "metadata": {
    "execution": {
     "iopub.execute_input": "2023-03-29T10:52:14.095288Z",
     "iopub.status.busy": "2023-03-29T10:52:14.094188Z",
     "iopub.status.idle": "2023-03-29T10:53:57.618294Z",
     "shell.execute_reply": "2023-03-29T10:53:57.616859Z",
     "shell.execute_reply.started": "2023-03-29T10:52:14.095236Z"
    },
    "scrolled": true,
    "tags": []
   },
   "outputs": [
    {
     "name": "stderr",
     "output_type": "stream",
     "text": [
      "Building prefix dict from the default dictionary ...\r\n",
      "Dumping model to file cache /tmp/jieba.cache\r\n",
      "Loading model cost 0.903 seconds.\r\n",
      "Prefix dict has been built successfully.\r\n"
     ]
    }
   ],
   "source": [
    "import pandas as pd\n",
    "import jieba\n",
    "import jieba.posseg as pseg\n",
    "import os\n",
    "# 加载停用词表\n",
    "stopwords = set(pd.read_csv('/home/aistudio/dict/stopwords.txt', header=None, encoding='utf-8', squeeze=True))\n",
    "# 加载自定义词典\n",
    "jieba.load_userdict('/home/aistudio/dict/dict.txt')\n",
    "# 定义需要替换的词和替换成的词\n",
    "replace_dict = {\n",
    "    '老师': '教师',\n",
    "    '医生': '医务工作者',\n",
    "    # 可以继续添加需要替换的词和替换成的词\n",
    "}\n",
    "# 定义选择词性的函数\n",
    "def select_words(words, pos):\n",
    "    result = []\n",
    "    for word, tag in words:\n",
    "        if tag in pos and word not in stopwords:\n",
    "            # 替换词\n",
    "            for k, v in replace_dict.items():\n",
    "                word = word.replace(k, v)\n",
    "            result.append(word)\n",
    "    return ' '.join(result)\n",
    "# 定义分词函数\n",
    "def cut_comment(comment, pos):\n",
    "    # 分词\n",
    "    words = pseg.cut(comment)\n",
    "    # 选择词性\n",
    "    result = select_words(words, pos)\n",
    "    # 返回结果\n",
    "    return result\n",
    "# 指定要读取的文件夹路径\n",
    "folder_path = \"data_clean\"\n",
    "folder_path1 = \"data_cut\"\n",
    "# 获取文件夹中的所有xlsx文件\n",
    "file_list = [f for f in os.listdir(folder_path) if f.endswith('.xlsx')]\n",
    "# 循环读取每个xlsx文件，并对其中的comment列进行操作\n",
    "for file_name in file_list:\n",
    "    file_path = os.path.join(folder_path, file_name)\n",
    "    # 读取Excel文件\n",
    "    data = pd.read_excel(file_path)\n",
    "    # 对clean_comment列应用分词函数\n",
    "    df['cut_comment'] = df['clean_comment'].apply(lambda x: cut_comment(x, ['n', 'a', 'v', 'vn', 'an']))#保留名词 动词 形容词\n",
    "    # 将结果保存到一个新的Excel文件中\n",
    "    new_file_name = 'new_' + file_name\n",
    "    new_file_path = os.path.join(folder_path1, new_file_name)\n",
    "    data.to_excel(new_file_path, index=False)"
   ]
  }
 ],
 "metadata": {
  "kernelspec": {
   "display_name": "Python 3",
   "language": "python",
   "name": "py35-paddle1.2.0"
  },
  "language_info": {
   "codemirror_mode": {
    "name": "ipython",
    "version": 3
   },
   "file_extension": ".py",
   "mimetype": "text/x-python",
   "name": "python",
   "nbconvert_exporter": "python",
   "pygments_lexer": "ipython3",
   "version": "3.7.4"
  },
  "vp": {
   "base_numbering": 1,
   "nav_menu": {},
   "number_sections": true,
   "sideBar": true,
   "title_cell": "VisualPython",
   "title_sidebar": "VisualPython",
   "vpPosition": {
    "height": "calc(100% - 180px)",
    "right": "10px",
    "top": "110px",
    "width": "50%"
   },
   "vp_cell": false,
   "vp_section_display": true,
   "vp_window_display": false
  },
  "vscode": {
   "interpreter": {
    "hash": "f6922a9521a6ee1ce7f8c1dd0f269e02385237cdfa43bf19c0dcc609bd325874"
   }
  }
 },
 "nbformat": 4,
 "nbformat_minor": 4
}
